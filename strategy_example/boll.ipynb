{
 "cells": [
  {
   "cell_type": "code",
   "execution_count": 1,
   "id": "6921342c",
   "metadata": {},
   "outputs": [],
   "source": [
    "import os\n",
    "os.chdir('..')"
   ]
  },
  {
   "cell_type": "code",
   "execution_count": 2,
   "id": "f71a42ca",
   "metadata": {
    "scrolled": false
   },
   "outputs": [],
   "source": [
    "import numpy as np\n",
    "import pandas as pd\n",
    "\n",
    "import talib as ta\n",
    "\n",
    "from neo_backtesting import backtest_online, SingleFutureSimulator\n",
    "from strategy_example.bolling import BollingStrategy, boll_factor"
   ]
  },
  {
   "cell_type": "code",
   "execution_count": 3,
   "id": "0183303a",
   "metadata": {},
   "outputs": [],
   "source": [
    "# 回测起始日\n",
    "START_DATE = '20180301'\n",
    "\n",
    "# 布林带周期与宽度\n",
    "N = 100\n",
    "B = 2\n",
    "\n",
    "# 回测参数\n",
    "INIT_CAPITAL = 1e5  # 初始资金，10万\n",
    "LEVERAGE = 1  # 使用1倍杠杆\n",
    "FACE_VALUE = 0.01  # 合约面值 0.01\n",
    "COMM_RATE = 6e-4  # 交易成本万分之 6\n",
    "LIQUI_RATE = 5e-3  # 爆仓保证金率千分之 3"
   ]
  },
  {
   "cell_type": "code",
   "execution_count": 4,
   "id": "2b4e14d7",
   "metadata": {},
   "outputs": [],
   "source": [
    "df = pd.read_feather('../candle_1h.fea')\n",
    "\n",
    "upper, median, lower = ta.BBANDS(df['close'], timeperiod=N, nbdevup=B, nbdevdn=B, matype=ta.MA_Type.SMA)\n",
    "\n",
    "df['upper'] = upper\n",
    "df['median'] = median\n",
    "df['lower'] = lower\n",
    "\n",
    "df = df[df['candle_begin_time'] >= START_DATE].reset_index(drop=True)"
   ]
  },
  {
   "cell_type": "code",
   "execution_count": 5,
   "id": "63587a5c",
   "metadata": {
    "scrolled": false
   },
   "outputs": [
    {
     "name": "stdout",
     "output_type": "stream",
     "text": [
      "|       | candle_begin_time   |     pos |      equity |\n",
      "|------:|:--------------------|--------:|------------:|\n",
      "| 37527 | 2022-06-13 19:00:00 | -321335 | 6.859e+06   |\n",
      "| 37528 | 2022-06-13 20:00:00 | -321335 | 6.81568e+06 |\n",
      "| 37529 | 2022-06-13 21:00:00 | -321335 | 6.85607e+06 |\n",
      "| 37530 | 2022-06-13 22:00:00 | -321335 | 6.97178e+06 |\n",
      "| 37531 | 2022-06-13 23:00:00 | -321335 | 6.91963e+06 | \n",
      "\n",
      "CPU times: user 507 ms, sys: 17.5 ms, total: 525 ms\n",
      "Wall time: 571 ms\n"
     ]
    }
   ],
   "source": [
    "%%time\n",
    "\n",
    "simulator = SingleFutureSimulator(\n",
    "    init_capital=INIT_CAPITAL, \n",
    "    face_value=FACE_VALUE, \n",
    "    comm_rate=COMM_RATE, \n",
    "    liqui_rate=LIQUI_RATE, \n",
    "    init_pos=0)\n",
    "\n",
    "strategy = BollingStrategy(leverage=LEVERAGE, face_value=FACE_VALUE)\n",
    "backtest_online(\n",
    "    df, \n",
    "    simulator=simulator,\n",
    "    strategy=strategy,\n",
    "    factor_columns = ['upper', 'lower', 'median'])\n",
    "\n",
    "print(df[['candle_begin_time', 'pos', 'equity']].tail().to_markdown(), '\\n')"
   ]
  }
 ],
 "metadata": {
  "kernelspec": {
   "display_name": "Python 3 (ipykernel)",
   "language": "python",
   "name": "python3"
  },
  "language_info": {
   "codemirror_mode": {
    "name": "ipython",
    "version": 3
   },
   "file_extension": ".py",
   "mimetype": "text/x-python",
   "name": "python",
   "nbconvert_exporter": "python",
   "pygments_lexer": "ipython3",
   "version": "3.9.12"
  }
 },
 "nbformat": 4,
 "nbformat_minor": 5
}
