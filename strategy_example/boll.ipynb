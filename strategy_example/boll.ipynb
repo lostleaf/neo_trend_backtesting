{
 "cells": [
  {
   "cell_type": "code",
   "execution_count": 1,
   "id": "82e8ca23",
   "metadata": {},
   "outputs": [],
   "source": [
    "import os\n",
    "os.chdir('..')"
   ]
  },
  {
   "cell_type": "code",
   "execution_count": 2,
   "id": "f71a42ca",
   "metadata": {
    "scrolled": false
   },
   "outputs": [],
   "source": [
    "import numpy as np\n",
    "import pandas as pd\n",
    "\n",
    "import talib as ta\n",
    "\n",
    "from neo_backtesting import backtest_online, SingleFutureSimulator\n",
    "from strategy_example.boll import BollingStrategy"
   ]
  },
  {
   "cell_type": "code",
   "execution_count": 3,
   "id": "0183303a",
   "metadata": {},
   "outputs": [],
   "source": [
    "# 回测起始日\n",
    "START_DATE = '20180301'\n",
    "\n",
    "# 布林带周期与宽度\n",
    "N = 100\n",
    "B = 2\n",
    "\n",
    "# 回测参数\n",
    "INIT_CAPITAL = 1e5  # 初始资金，10万\n",
    "LEVERAGE = 1  # 使用1倍杠杆\n",
    "FACE_VALUE = 0.01  # 合约面值 0.01\n",
    "COMM_RATE = 6e-4  # 交易成本万分之 6\n",
    "LIQUI_RATE = 5e-3  # 爆仓保证金率千分之 5"
   ]
  },
  {
   "cell_type": "code",
   "execution_count": 4,
   "id": "2b4e14d7",
   "metadata": {},
   "outputs": [],
   "source": [
    "df = pd.read_feather('../candle_1h.fea')\n",
    "\n",
    "upper, median, lower = ta.BBANDS(df['close'], timeperiod=N, nbdevup=B, nbdevdn=B, matype=ta.MA_Type.SMA)\n",
    "\n",
    "df['upper'] = upper\n",
    "df['median'] = median\n",
    "df['lower'] = lower\n",
    "\n",
    "df = df[df['candle_begin_time'] >= START_DATE].reset_index(drop=True)"
   ]
  },
  {
   "cell_type": "code",
   "execution_count": 7,
   "id": "63587a5c",
   "metadata": {
    "scrolled": false
   },
   "outputs": [
    {
     "name": "stdout",
     "output_type": "stream",
     "text": [
      "CPU times: user 15.2 ms, sys: 4.68 ms, total: 19.9 ms\n",
      "Wall time: 18.6 ms\n"
     ]
    },
    {
     "data": {
      "text/html": [
       "<div>\n",
       "<style scoped>\n",
       "    .dataframe tbody tr th:only-of-type {\n",
       "        vertical-align: middle;\n",
       "    }\n",
       "\n",
       "    .dataframe tbody tr th {\n",
       "        vertical-align: top;\n",
       "    }\n",
       "\n",
       "    .dataframe thead th {\n",
       "        text-align: right;\n",
       "    }\n",
       "</style>\n",
       "<table border=\"1\" class=\"dataframe\">\n",
       "  <thead>\n",
       "    <tr style=\"text-align: right;\">\n",
       "      <th></th>\n",
       "      <th>candle_begin_time</th>\n",
       "      <th>pos</th>\n",
       "      <th>equity</th>\n",
       "    </tr>\n",
       "  </thead>\n",
       "  <tbody>\n",
       "    <tr>\n",
       "      <th>37527</th>\n",
       "      <td>2022-06-13 19:00:00</td>\n",
       "      <td>-321335</td>\n",
       "      <td>6.858995e+06</td>\n",
       "    </tr>\n",
       "    <tr>\n",
       "      <th>37528</th>\n",
       "      <td>2022-06-13 20:00:00</td>\n",
       "      <td>-321335</td>\n",
       "      <td>6.815679e+06</td>\n",
       "    </tr>\n",
       "    <tr>\n",
       "      <th>37529</th>\n",
       "      <td>2022-06-13 21:00:00</td>\n",
       "      <td>-321335</td>\n",
       "      <td>6.856071e+06</td>\n",
       "    </tr>\n",
       "    <tr>\n",
       "      <th>37530</th>\n",
       "      <td>2022-06-13 22:00:00</td>\n",
       "      <td>-321335</td>\n",
       "      <td>6.971784e+06</td>\n",
       "    </tr>\n",
       "    <tr>\n",
       "      <th>37531</th>\n",
       "      <td>2022-06-13 23:00:00</td>\n",
       "      <td>-321335</td>\n",
       "      <td>6.919631e+06</td>\n",
       "    </tr>\n",
       "  </tbody>\n",
       "</table>\n",
       "</div>"
      ],
      "text/plain": [
       "        candle_begin_time     pos        equity\n",
       "37527 2022-06-13 19:00:00 -321335  6.858995e+06\n",
       "37528 2022-06-13 20:00:00 -321335  6.815679e+06\n",
       "37529 2022-06-13 21:00:00 -321335  6.856071e+06\n",
       "37530 2022-06-13 22:00:00 -321335  6.971784e+06\n",
       "37531 2022-06-13 23:00:00 -321335  6.919631e+06"
      ]
     },
     "execution_count": 7,
     "metadata": {},
     "output_type": "execute_result"
    }
   ],
   "source": [
    "%%time\n",
    "\n",
    "simulator = SingleFutureSimulator(\n",
    "    init_capital=INIT_CAPITAL, \n",
    "    face_value=FACE_VALUE, \n",
    "    comm_rate=COMM_RATE, \n",
    "    liqui_rate=LIQUI_RATE, \n",
    "    init_pos=0)\n",
    "\n",
    "strategy = BollingStrategy(leverage=LEVERAGE, face_value=FACE_VALUE)\n",
    "backtest_online(\n",
    "    df, \n",
    "    simulator=simulator,\n",
    "    strategy=strategy,\n",
    "    factor_columns = ['upper', 'lower', 'median'])\n",
    "\n",
    "df[['candle_begin_time', 'pos', 'equity']].tail()"
   ]
  }
 ],
 "metadata": {
  "kernelspec": {
   "display_name": "Python 3 (ipykernel)",
   "language": "python",
   "name": "python3"
  },
  "language_info": {
   "codemirror_mode": {
    "name": "ipython",
    "version": 3
   },
   "file_extension": ".py",
   "mimetype": "text/x-python",
   "name": "python",
   "nbconvert_exporter": "python",
   "pygments_lexer": "ipython3",
   "version": "3.9.12"
  }
 },
 "nbformat": 4,
 "nbformat_minor": 5
}
