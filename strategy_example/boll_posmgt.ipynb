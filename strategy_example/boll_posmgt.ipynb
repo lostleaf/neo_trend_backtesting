{
 "cells": [
  {
   "cell_type": "code",
   "execution_count": 1,
   "id": "32e617b7",
   "metadata": {},
   "outputs": [],
   "source": [
    "import os\n",
    "os.chdir('..')"
   ]
  },
  {
   "cell_type": "code",
   "execution_count": 2,
   "id": "f71a42ca",
   "metadata": {},
   "outputs": [],
   "source": [
    "import numpy as np\n",
    "import pandas as pd\n",
    "import numba as nb\n",
    "from numba.experimental import jitclass\n",
    "\n",
    "from neo_backtesting import backtest_online, SingleFutureSimulator\n",
    "from strategy_example.bolling import BollingPosMgtStrategy, boll_factor_cross_timeframe"
   ]
  },
  {
   "cell_type": "code",
   "execution_count": 3,
   "id": "3f90035d",
   "metadata": {},
   "outputs": [],
   "source": [
    "# 回测起始日\n",
    "START_DATE = '20180301'\n",
    "\n",
    "# 布林带周期与宽度\n",
    "N = 100  # 100 小时\n",
    "B = 2\n",
    "\n",
    "# 回测参数\n",
    "INIT_CAPITAL = 1e5  # 初始资金，10万美元\n",
    "MAX_LEVERAGE = 1.5  # 最大使用 1.5 倍杠杆\n",
    "MAX_LOSS = 0.05  # 最大开仓风险 5%\n",
    "STOP_PCT = 0.05  # 移动止损 5%\n",
    "STOP_CLOSE_PCT = 0.2  # 每次止损平仓 20%\n",
    "FACE_VALUE = 0.01  # 合约面值 0.01 ETH\n",
    "COMM_RATE = 6e-4  # 交易成本万分之 6\n",
    "LIQUI_RATE = 5e-3  # 爆仓保证金率千分之 3"
   ]
  },
  {
   "cell_type": "code",
   "execution_count": 4,
   "id": "ccc57bd9",
   "metadata": {},
   "outputs": [],
   "source": [
    "df_1h = pd.read_feather('../candle_1h.fea')\n",
    "df_1m = pd.read_feather('../candle_1m.fea')\n",
    "\n",
    "df = boll_factor_cross_timeframe(df_1m, df_1h, N, B)\n",
    "\n",
    "df = df[df['candle_end_time'] >= START_DATE].reset_index(drop=True)"
   ]
  },
  {
   "cell_type": "code",
   "execution_count": 6,
   "id": "63587a5c",
   "metadata": {
    "scrolled": false
   },
   "outputs": [
    {
     "name": "stdout",
     "output_type": "stream",
     "text": [
      "|         | candle_begin_time   |     pos |      equity |\n",
      "|--------:|:--------------------|--------:|------------:|\n",
      "| 2249268 | 2022-06-13 23:55:00 | -714816 | 5.22373e+07 |\n",
      "| 2249269 | 2022-06-13 23:56:00 | -714816 | 5.22318e+07 |\n",
      "| 2249270 | 2022-06-13 23:57:00 | -714816 | 5.22399e+07 |\n",
      "| 2249271 | 2022-06-13 23:58:00 | -714816 | 5.22389e+07 |\n",
      "| 2249272 | 2022-06-13 23:59:00 | -714816 | 5.22121e+07 | \n",
      "\n",
      "CPU times: user 196 ms, sys: 84.8 ms, total: 281 ms\n",
      "Wall time: 279 ms\n"
     ]
    }
   ],
   "source": [
    "%%time\n",
    "\n",
    "simulator = SingleFutureSimulator(\n",
    "    init_capital=INIT_CAPITAL, \n",
    "    face_value=FACE_VALUE, \n",
    "    comm_rate=COMM_RATE, \n",
    "    liqui_rate=LIQUI_RATE, \n",
    "    init_pos=0)\n",
    "\n",
    "strategy = BollingPosMgtStrategy(\n",
    "    max_leverage=MAX_LEVERAGE, \n",
    "    max_loss=MAX_LOSS, \n",
    "    face_value=FACE_VALUE, \n",
    "    stop_pct=STOP_PCT, \n",
    "    stop_close_pct=STOP_CLOSE_PCT)\n",
    "\n",
    "backtest_online(\n",
    "    df, \n",
    "    simulator=simulator,\n",
    "    strategy=strategy,\n",
    "    factor_columns = ['upper', 'lower', 'median'])\n",
    "print(df[['candle_begin_time', 'pos', 'equity']].tail().to_markdown(), '\\n')"
   ]
  }
 ],
 "metadata": {
  "kernelspec": {
   "display_name": "Python 3 (ipykernel)",
   "language": "python",
   "name": "python3"
  },
  "language_info": {
   "codemirror_mode": {
    "name": "ipython",
    "version": 3
   },
   "file_extension": ".py",
   "mimetype": "text/x-python",
   "name": "python",
   "nbconvert_exporter": "python",
   "pygments_lexer": "ipython3",
   "version": "3.9.12"
  }
 },
 "nbformat": 4,
 "nbformat_minor": 5
}
