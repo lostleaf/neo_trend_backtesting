{
 "cells": [
  {
   "cell_type": "code",
   "execution_count": 1,
   "id": "82e8ca23",
   "metadata": {},
   "outputs": [],
   "source": [
    "import os\n",
    "os.chdir('..')"
   ]
  },
  {
   "cell_type": "code",
   "execution_count": 2,
   "id": "f71a42ca",
   "metadata": {
    "scrolled": false
   },
   "outputs": [],
   "source": [
    "import inspect\n",
    "import multiprocessing as mp\n",
    "from typing import List, Tuple\n",
    "\n",
    "import numba as nb\n",
    "import numpy as np\n",
    "import pandas as pd\n",
    "import time\n",
    "from matplotlib import pyplot as plt\n",
    "\n",
    "from neo_backtesting import Backtester, run_gridsearch\n",
    "from strategy import boll_inbar\n",
    "from util import read_candle_feather, transform_candle_np_struct, transform_np_struct\n",
    "from joblib import Parallel, delayed\n",
    "\n",
    "from xbx import equity_curve_for_OKEx_USDT_future_next_open, signal_simple_bolling\n",
    "\n",
    "%matplotlib inline"
   ]
  },
  {
   "cell_type": "code",
   "execution_count": 3,
   "id": "0183303a",
   "metadata": {},
   "outputs": [],
   "source": [
    "# 回测起始日\n",
    "START_DATE = '20180301'\n",
    "END_DATE = '20220901'\n",
    "\n",
    "# 策略参数\n",
    "N = 100\n",
    "B = 1.8\n",
    "LONG_INTERVAL = '1h'\n",
    "\n",
    "LEVERAGE = 1\n",
    "\n",
    "\n",
    "# 回测参数\n",
    "INIT_CAPITAL = 1e5  # 初始资金，10万\n",
    "FACE_VALUE = 0.001  # 合约面值 0.001\n",
    "\n",
    "COMM_RATE = 6e-4  # 交易成本万分之 6\n",
    "LIQUI_RATE = 5e-3  # 爆仓保证金率千分之 5\n",
    "\n",
    "CONTRACT_TYPE = 'futures'  # 正向合约\n",
    "\n",
    "# 模拟器参数\n",
    "SIMULATOR_PARAMS = {\n",
    "    'init_capital': INIT_CAPITAL, \n",
    "    'face_value': FACE_VALUE, \n",
    "    'comm_rate': COMM_RATE, \n",
    "    'liqui_rate': LIQUI_RATE, \n",
    "    'init_pos': 0\n",
    "}\n",
    "\n",
    "STRA = boll_inbar  # 要回测的策略\n",
    "\n",
    "ETH_PATHS = {\n",
    "    '1m': '/home/lostleaf/feather_data/spot/ETH-USDT_1m.fea',\n",
    "    '30m': '/home/lostleaf/feather_data/spot/ETH-USDT_30m.fea',\n",
    "    '1h': '/home/lostleaf/feather_data/spot/ETH-USDT_1h.fea'\n",
    "}"
   ]
  },
  {
   "cell_type": "code",
   "execution_count": 16,
   "id": "9a5331c9",
   "metadata": {
    "scrolled": false
   },
   "outputs": [
    {
     "name": "stdout",
     "output_type": "stream",
     "text": [
      "CPU times: user 575 ms, sys: 610 ms, total: 1.19 s\n",
      "Wall time: 513 ms\n",
      "CPU times: user 1.26 s, sys: 694 ms, total: 1.96 s\n",
      "Wall time: 1.9 s\n",
      "          candle_begin_time    close       pos      equity\n",
      "275636  2018-03-01 00:00:00   853.00         0    1.000000\n",
      "275637  2018-03-01 00:01:00   852.80         0    1.000000\n",
      "275638  2018-03-01 00:02:00   853.01         0    1.000000\n",
      "275639  2018-03-01 00:03:00   852.97         0    1.000000\n",
      "275640  2018-03-01 00:04:00   851.00         0    1.000000\n",
      "...                     ...      ...       ...         ...\n",
      "2638630 2022-08-31 23:56:00  1553.80  15620134  242.558917\n",
      "2638631 2022-08-31 23:57:00  1554.28  15620134  242.633894\n",
      "2638632 2022-08-31 23:58:00  1555.01  15620134  242.747921\n",
      "2638633 2022-08-31 23:59:00  1554.10  15620134  242.605778\n",
      "2638634 2022-09-01 00:00:00  1553.04  15620134  242.440204\n",
      "\n",
      "[2362999 rows x 4 columns]\n"
     ]
    }
   ],
   "source": [
    "%time backtester = Backtester(ETH_PATHS, 'futures', SIMULATOR_PARAMS, boll_inbar)\n",
    "\n",
    "factor_params = {\n",
    "    'n': N,\n",
    "    'b': B,\n",
    "    'itl': LONG_INTERVAL\n",
    "}\n",
    "\n",
    "strategy_params = {\n",
    "    'leverage': LEVERAGE\n",
    "}\n",
    "\n",
    "%time df_ret = backtester.run_detailed(START_DATE, END_DATE, INIT_CAPITAL, FACE_VALUE, factor_params, strategy_params)\n",
    "df_ret['equity'] /= df_ret['equity'].iat[0]\n",
    "print(df_ret[['candle_begin_time', 'close', 'pos', 'equity']])"
   ]
  },
  {
   "cell_type": "code",
   "execution_count": 11,
   "id": "3494d63d",
   "metadata": {},
   "outputs": [
    {
     "name": "stdout",
     "output_type": "stream",
     "text": [
      "CPU times: user 404 ms, sys: 545 ms, total: 949 ms\n",
      "Wall time: 321 ms\n",
      "CPU times: user 3.42 s, sys: 2.55 s, total: 5.97 s\n",
      "Wall time: 5.41 s\n",
      "          candle_begin_time    close  pos  equity_curve\n",
      "275636  2018-03-01 00:00:00   853.00  0.0      1.000000\n",
      "275637  2018-03-01 00:01:00   852.80  0.0      1.000000\n",
      "275638  2018-03-01 00:02:00   853.01  0.0      1.000000\n",
      "275639  2018-03-01 00:03:00   852.97  0.0      1.000000\n",
      "275640  2018-03-01 00:04:00   851.00  0.0      1.000000\n",
      "...                     ...      ...  ...           ...\n",
      "2638630 2022-08-31 23:56:00  1553.80  1.0    242.547027\n",
      "2638631 2022-08-31 23:57:00  1554.28  1.0    242.621999\n",
      "2638632 2022-08-31 23:58:00  1555.01  1.0    242.736018\n",
      "2638633 2022-08-31 23:59:00  1554.10  1.0    242.593885\n",
      "2638634 2022-09-01 00:00:00  1553.04  1.0    242.282780\n",
      "\n",
      "[2362999 rows x 4 columns]\n"
     ]
    }
   ],
   "source": [
    "def load_candles(candle_paths):\n",
    "    return {itl: read_candle_feather(path) for itl, path in candle_paths.items()}\n",
    "\n",
    "def backtest(candles, factor_params, leverage):\n",
    "    df_xbx = STRA.factor(candles, factor_params)\n",
    "    df_xbx = df_xbx[(df_xbx['candle_begin_time'] >= START_DATE) & (df_xbx['candle_begin_time'] <= END_DATE)]\n",
    "    df_xbx = signal_simple_bolling(df_xbx)\n",
    "    df_xbx['pos'] = df_xbx['signal'].shift().ffill().fillna(0)\n",
    "    df_xbx = equity_curve_for_OKEx_USDT_future_next_open(\n",
    "        df_xbx,\n",
    "        slippage=0,\n",
    "        c_rate=COMM_RATE,\n",
    "        leverage_rate=leverage,\n",
    "        face_value=FACE_VALUE,\n",
    "        min_margin_ratio=LIQUI_RATE)\n",
    "    return df_xbx\n",
    "\n",
    "%time candles = load_candles(ETH_PATHS)\n",
    "%time df_xbx = backtest(candles, factor_params, LEVERAGE)\n",
    "print(df_xbx[['candle_begin_time', 'close', 'pos', 'equity_curve']])"
   ]
  },
  {
   "cell_type": "code",
   "execution_count": 12,
   "id": "9edf7d08",
   "metadata": {},
   "outputs": [
    {
     "data": {
      "text/plain": [
       "count    2.362999e+06\n",
       "mean     2.423074e-04\n",
       "std      1.199977e-04\n",
       "min     -1.066092e-03\n",
       "25%      1.486942e-04\n",
       "50%      2.772150e-04\n",
       "75%      3.066479e-04\n",
       "max      2.940089e-03\n",
       "dtype: float64"
      ]
     },
     "execution_count": 12,
     "metadata": {},
     "output_type": "execute_result"
    }
   ],
   "source": [
    "err = df_ret['equity'] / df_xbx['equity_curve']  - 1\n",
    "err.describe()"
   ]
  },
  {
   "cell_type": "code",
   "execution_count": 8,
   "id": "4e10782f",
   "metadata": {},
   "outputs": [
    {
     "name": "stdout",
     "output_type": "stream",
     "text": [
      "        equity  itl    n    b  leverage  face_value\n",
      "0  2069.809571   1h   75  1.5       1.5       0.001\n",
      "1  2049.436361  30m  150  1.5       1.5       0.001\n",
      "2  1891.993335  30m  145  1.5       1.5       0.001\n",
      "3  1839.323227   1h   70  1.5       1.5       0.001\n",
      "4  1591.957325   1h  100  1.8       1.5       0.001\n",
      "CPU times: user 67.3 ms, sys: 589 ms, total: 657 ms\n",
      "Wall time: 3min 50s\n"
     ]
    }
   ],
   "source": [
    "%%time\n",
    "\n",
    "df_grid = run_gridsearch(stra_module=STRA, \n",
    "                         candle_paths=ETH_PATHS, \n",
    "                         contract_type='futures', \n",
    "                         simulator_params=SIMULATOR_PARAMS, \n",
    "                         start_date=START_DATE, \n",
    "                         end_date=END_DATE, \n",
    "                         init_capital=INIT_CAPITAL, \n",
    "                         face_value=FACE_VALUE, \n",
    "                         n_proc=16)\n",
    "\n",
    "df_grid = df_grid.sort_values('equity', ascending=False, ignore_index=True)\n",
    "print(df_grid.head())"
   ]
  },
  {
   "cell_type": "code",
   "execution_count": 18,
   "id": "946e1471",
   "metadata": {},
   "outputs": [
    {
     "name": "stdout",
     "output_type": "stream",
     "text": [
      "CPU times: user 4.08 s, sys: 390 ms, total: 4.48 s\n",
      "Wall time: 23min 4s\n"
     ]
    }
   ],
   "source": [
    "%%time\n",
    "\n",
    "fparams_list = STRA.get_default_factor_params_list()\n",
    "sparams_list = STRA.get_default_strategy_params_list()\n",
    "\n",
    "def _run(factor_params, strategy_params):\n",
    "    leverage = strategy_params['leverage']\n",
    "    candles = load_candles(ETH_PATHS)\n",
    "    df_xbx = backtest(candles, factor_params, leverage)\n",
    "    ret = {'equity': df_xbx['equity_curve'].iat[-1]}\n",
    "    ret.update(factor_params)\n",
    "    ret.update(strategy_params)\n",
    "    return ret\n",
    "\n",
    "results = Parallel(n_jobs=16)(delayed(_run)(fp, sp) for fp in fparams_list for sp in sparams_list)\n",
    "df_grid_xbx = pd.DataFrame.from_records(results)"
   ]
  },
  {
   "cell_type": "code",
   "execution_count": 29,
   "id": "146d9097",
   "metadata": {},
   "outputs": [
    {
     "data": {
      "text/plain": [
       "count    1931.000000\n",
       "mean        0.000382\n",
       "std         0.000753\n",
       "min        -0.003282\n",
       "25%        -0.000108\n",
       "50%         0.000330\n",
       "75%         0.000816\n",
       "max         0.003698\n",
       "dtype: float64"
      ]
     },
     "execution_count": 29,
     "metadata": {},
     "output_type": "execute_result"
    }
   ],
   "source": [
    "df_grid_xbx = df_grid_xbx.sort_values('equity', ascending=False, ignore_index=True)\n",
    "join_idx = ['itl', 'n', 'b', 'leverage']\n",
    "tmp = df_grid_xbx.join(df_grid.set_index(join_idx), on=join_idx, rsuffix='_neo')\n",
    "tmp = tmp[tmp['equity'] > 1]\n",
    "(tmp['equity_neo'] / tmp['equity'] - 1).describe()"
   ]
  }
 ],
 "metadata": {
  "kernelspec": {
   "display_name": "Python 3 (ipykernel)",
   "language": "python",
   "name": "python3"
  },
  "language_info": {
   "codemirror_mode": {
    "name": "ipython",
    "version": 3
   },
   "file_extension": ".py",
   "mimetype": "text/x-python",
   "name": "python",
   "nbconvert_exporter": "python",
   "pygments_lexer": "ipython3",
   "version": "3.9.7"
  }
 },
 "nbformat": 4,
 "nbformat_minor": 5
}
