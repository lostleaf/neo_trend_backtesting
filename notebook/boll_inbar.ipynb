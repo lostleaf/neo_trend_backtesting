{
 "cells": [
  {
   "cell_type": "code",
   "execution_count": null,
   "id": "82e8ca23",
   "metadata": {},
   "outputs": [],
   "source": [
    "import os\n",
    "os.chdir('..')"
   ]
  },
  {
   "cell_type": "code",
   "execution_count": null,
   "id": "f71a42ca",
   "metadata": {
    "scrolled": false
   },
   "outputs": [],
   "source": [
    "import inspect\n",
    "import multiprocessing as mp\n",
    "from typing import List, Tuple\n",
    "\n",
    "import numba as nb\n",
    "import numpy as np\n",
    "import pandas as pd\n",
    "import time\n",
    "\n",
    "from neo_backtesting import Backtester\n",
    "from strategy import boll_inbar\n",
    "from util import read_candle_feather, transform_candle_np_struct, transform_np_struct\n",
    "from joblib import Parallel, delayed\n",
    "\n",
    "%load_ext line_profiler"
   ]
  },
  {
   "cell_type": "code",
   "execution_count": null,
   "id": "0183303a",
   "metadata": {},
   "outputs": [],
   "source": [
    "# 回测起始日\n",
    "START_DATE = '20180301'\n",
    "END_DATE = '20220614'\n",
    "\n",
    "# 布林带周期与宽度\n",
    "N = 100\n",
    "B = 2\n",
    "\n",
    "# 回测参数\n",
    "INIT_CAPITAL = 1e5  # 初始资金，10万\n",
    "FACE_VALUE = 0.001  # 合约面值 0.001\n",
    "\n",
    "COMM_RATE = 6e-4  # 交易成本万分之 6\n",
    "LIQUI_RATE = 5e-3  # 爆仓保证金率千分之 5\n",
    "\n",
    "CONTRACT_TYPE = 'futures'  # 正向合约\n",
    "\n",
    "# 模拟器参数\n",
    "SIMULATOR_PARAMS = {\n",
    "    'init_capital': INIT_CAPITAL, \n",
    "    'face_value': FACE_VALUE, \n",
    "    'comm_rate': COMM_RATE, \n",
    "    'liqui_rate': LIQUI_RATE, \n",
    "    'init_pos': 0\n",
    "}\n",
    "\n",
    "STRA = boll_inbar  # 要回测的策略\n",
    "\n",
    "MIN_INTERVAL = '1m'  # 最小回测周期\n",
    "\n",
    "ETH_PATHS = {\n",
    "    '1m': '../binance_spot/ETH-USDT_1m.fea',\n",
    "    '30m': '../binance_spot/ETH-USDT_30m.fea',\n",
    "    '1h': '../binance_spot/ETH-USDT_1h.fea'\n",
    "}"
   ]
  },
  {
   "cell_type": "code",
   "execution_count": null,
   "id": "9a5331c9",
   "metadata": {
    "scrolled": false
   },
   "outputs": [],
   "source": [
    "backtester = Backtester(\n",
    "    candle_paths=ETH_PATHS, \n",
    "    contract_type='futures', \n",
    "    simulator_params=SIMULATOR_PARAMS, \n",
    "    stra_module=boll_inbar)\n",
    "factor_params = {\n",
    "    'n': 100,\n",
    "    'b': 2,\n",
    "    'itl': '1h'\n",
    "}\n",
    "strategy_params = {\n",
    "    'leverage': 1\n",
    "}\n",
    "%time results = backtester.run_detailed(\n",
    "    start_date=START_DATE, \n",
    "    end_date=END_DATE, \n",
    "    init_capital=INIT_CAPITAL, \n",
    "    face_value=FACE_VALUE, \n",
    "    factor_params=factor_params, \n",
    "    strategy_params=strategy_params)\n",
    "\n",
    "results['equity'] /= results['equity'].iat[0]\n",
    "results"
   ]
  },
  {
   "cell_type": "code",
   "execution_count": null,
   "id": "4e10782f",
   "metadata": {},
   "outputs": [],
   "source": [
    "\n",
    "fparams_list = STRA.get_default_factor_params_list()\n",
    "sparams_list = STRA.get_default_strategy_params_list()\n",
    "\n",
    "fparams_seqs = []\n",
    "\n",
    "n = len(fparams_list)\n",
    "n_cpus = os.cpu_count()\n",
    "\n",
    "j = 0\n",
    "for i in range(n_cpus):\n",
    "    n_tasks = n // n_cpus\n",
    "    if i < n % n_cpus:\n",
    "        n_tasks += 1\n",
    "    fparams_seqs.append(fparams_list[j : j + n_tasks])\n",
    "    j += n_tasks\n",
    "\n",
    "def search(fl):\n",
    "    sparams_list = STRA.get_default_strategy_params_list()\n",
    "    backtester = Backtester(\n",
    "        candle_paths=ETH_PATHS, \n",
    "        contract_type='futures', \n",
    "        simulator_params=SIMULATOR_PARAMS, \n",
    "        stra_module=boll_inbar)\n",
    "    t1 = time.time()\n",
    "    df = backtester.run_gridsearch(\n",
    "        start_date=START_DATE,\n",
    "        end_date=END_DATE,\n",
    "        init_capital=INIT_CAPITAL,\n",
    "        face_value=FACE_VALUE,\n",
    "        fparams_list=fl,\n",
    "        sparams_list=sparams_list\n",
    "    )\n",
    "    return time.time() - t1, len(fl)\n",
    "\n",
    "%time print(search(fparams_seqs[0]))"
   ]
  }
 ],
 "metadata": {
  "kernelspec": {
   "display_name": "Python 3 (ipykernel)",
   "language": "python",
   "name": "python3"
  },
  "language_info": {
   "codemirror_mode": {
    "name": "ipython",
    "version": 3
   },
   "file_extension": ".py",
   "mimetype": "text/x-python",
   "name": "python",
   "nbconvert_exporter": "python",
   "pygments_lexer": "ipython3",
   "version": "3.9.13"
  }
 },
 "nbformat": 4,
 "nbformat_minor": 5
}
