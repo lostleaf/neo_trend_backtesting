{
 "cells": [
  {
   "cell_type": "code",
   "execution_count": 1,
   "id": "82e8ca23",
   "metadata": {},
   "outputs": [],
   "source": [
    "import os\n",
    "os.chdir('..')"
   ]
  },
  {
   "cell_type": "code",
   "execution_count": 2,
   "id": "f71a42ca",
   "metadata": {
    "scrolled": false
   },
   "outputs": [],
   "source": [
    "import inspect\n",
    "import multiprocessing as mp\n",
    "from typing import List, Tuple\n",
    "\n",
    "import numba as nb\n",
    "import numpy as np\n",
    "import pandas as pd\n",
    "import time\n",
    "from matplotlib import pyplot as plt\n",
    "\n",
    "from neo_backtesting import Backtester, run_gridsearch\n",
    "from strategy import boll_inbar\n",
    "\n",
    "from util import read_candle_feather, transform_candle_np_struct, transform_np_struct\n",
    "from joblib import Parallel, delayed\n",
    "\n",
    "%matplotlib inline"
   ]
  },
  {
   "cell_type": "code",
   "execution_count": 3,
   "id": "0183303a",
   "metadata": {},
   "outputs": [],
   "source": [
    "# 回测起始日\n",
    "START_DATE = '20180301'\n",
    "END_DATE = '20220901'\n",
    "\n",
    "# 策略参数\n",
    "N = 100\n",
    "B = 1.8\n",
    "LONG_INTERVAL = '1h'\n",
    "\n",
    "LEVERAGE = 1\n",
    "\n",
    "\n",
    "# 回测参数\n",
    "INIT_CAPITAL = 1e5  # 初始资金，10万\n",
    "FACE_VALUE = 0.001  # 合约面值 0.001 币\n",
    "FACE_VALUE_COIN = 10  # 合约面值 10 USD\n",
    "\n",
    "COMM_RATE = 6e-4  # 交易成本万分之 6\n",
    "LIQUI_RATE = 5e-3  # 爆仓保证金率千分之 5\n",
    "\n",
    "CONTRACT_TYPE = 'inverse_futures'  # 正向合约\n",
    "\n",
    "ETH_PATHS = {\n",
    "    '1m': '/Users/lostleaf/feather_data/spot/ETH-USDT_1m.fea',\n",
    "    '30m': '/Users/lostleaf/feather_data/spot/ETH-USDT_30m.fea',\n",
    "    '1h': '/Users/lostleaf/feather_data/spot/ETH-USDT_1h.fea'\n",
    "}"
   ]
  },
  {
   "cell_type": "code",
   "execution_count": 4,
   "id": "9a5331c9",
   "metadata": {
    "scrolled": false
   },
   "outputs": [
    {
     "name": "stdout",
     "output_type": "stream",
     "text": [
      "CPU times: user 2.48 s, sys: 219 ms, total: 2.7 s\n",
      "Wall time: 881 ms\n",
      "CPU times: user 538 ms, sys: 170 ms, total: 708 ms\n",
      "Wall time: 745 ms\n",
      "          candle_begin_time    close       pos      equity\n",
      "275636  2018-03-01 00:00:00   853.00         0    1.000000\n",
      "275637  2018-03-01 00:01:00   852.80         0    1.000000\n",
      "275638  2018-03-01 00:02:00   853.01         0    1.000000\n",
      "275639  2018-03-01 00:03:00   852.97         0    1.000000\n",
      "275640  2018-03-01 00:04:00   851.00         0    1.000000\n",
      "...                     ...      ...       ...         ...\n",
      "2638630 2022-08-31 23:56:00  1553.80  15620134  242.558917\n",
      "2638631 2022-08-31 23:57:00  1554.28  15620134  242.633894\n",
      "2638632 2022-08-31 23:58:00  1555.01  15620134  242.747921\n",
      "2638633 2022-08-31 23:59:00  1554.10  15620134  242.605778\n",
      "2638634 2022-09-01 00:00:00  1553.04  15620134  242.440204\n",
      "\n",
      "[2362999 rows x 4 columns]\n"
     ]
    }
   ],
   "source": [
    "# 模拟器参数\n",
    "simu_params = {\n",
    "    'init_capital': INIT_CAPITAL, \n",
    "    'face_value': FACE_VALUE, \n",
    "    'comm_rate': 6e-4, \n",
    "    'liqui_rate': LIQUI_RATE, \n",
    "    'init_pos': 0\n",
    "}\n",
    "\n",
    "%time backtester = Backtester(ETH_PATHS, 'futures', simu_params, boll_inbar)\n",
    "\n",
    "factor_params = {\n",
    "    'n': N,\n",
    "    'b': B,\n",
    "    'itl': LONG_INTERVAL\n",
    "}\n",
    "\n",
    "strategy_params = {\n",
    "    'leverage': LEVERAGE\n",
    "}\n",
    "\n",
    "%time df_usdt = backtester.run_detailed(START_DATE, END_DATE, INIT_CAPITAL, FACE_VALUE, \\\n",
    "                                        factor_params, strategy_params)\n",
    "df_usdt['equity'] /= df_usdt['equity'].iat[0]\n",
    "print(df_usdt[['candle_begin_time', 'close', 'pos', 'equity']])\n"
   ]
  },
  {
   "cell_type": "code",
   "execution_count": 5,
   "id": "d5c3fedf",
   "metadata": {
    "scrolled": false
   },
   "outputs": [
    {
     "name": "stdout",
     "output_type": "stream",
     "text": [
      "CPU times: user 508 ms, sys: 137 ms, total: 645 ms\n",
      "Wall time: 487 ms\n",
      "CPU times: user 447 ms, sys: 149 ms, total: 595 ms\n",
      "Wall time: 614 ms\n",
      "          candle_begin_time    close      pos        equity         usd\n",
      "275636  2018-03-01 00:00:00   853.00        0  1.000000e+05    1.000000\n",
      "275637  2018-03-01 00:01:00   852.80 -8530000  1.000232e+05    0.999998\n",
      "275638  2018-03-01 00:02:00   853.01 -8530000  9.999862e+04    0.999998\n",
      "275639  2018-03-01 00:03:00   852.97 -8530000  1.000033e+05    0.999998\n",
      "275640  2018-03-01 00:04:00   851.00 -8530000  1.002348e+05    0.999998\n",
      "...                     ...      ...      ...           ...         ...\n",
      "2638630 2022-08-31 23:56:00  1553.80        0  1.329100e+07  242.104983\n",
      "2638631 2022-08-31 23:57:00  1554.28        0  1.329100e+07  242.179774\n",
      "2638632 2022-08-31 23:58:00  1555.01        0  1.329100e+07  242.293519\n",
      "2638633 2022-08-31 23:59:00  1554.10        0  1.329100e+07  242.151728\n",
      "2638634 2022-09-01 00:00:00  1553.04        0  1.329100e+07  241.986564\n",
      "\n",
      "[2362999 rows x 5 columns]\n"
     ]
    }
   ],
   "source": [
    "# 模拟器参数\n",
    "init_capital = INIT_CAPITAL\n",
    "\n",
    "simu_params = {\n",
    "    'init_capital': init_capital, \n",
    "    'face_value': FACE_VALUE_COIN, \n",
    "    'comm_rate': 6e-4, \n",
    "    'liqui_rate': LIQUI_RATE, \n",
    "    'init_pos': 0\n",
    "}\n",
    "\n",
    "%time backtester = Backtester(ETH_PATHS, 'inverse_futures', simu_params, boll_inbar)\n",
    "\n",
    "factor_params = {\n",
    "    'n': N,\n",
    "    'b': B,\n",
    "    'itl': LONG_INTERVAL\n",
    "}\n",
    "\n",
    "strategy_params = {\n",
    "    'leverage': LEVERAGE\n",
    "}\n",
    "\n",
    "%time df_coin = backtester.run_detailed(START_DATE, END_DATE, init_capital, FACE_VALUE_COIN, \\\n",
    "                                        factor_params, strategy_params)\n",
    "\n",
    "df_coin['usd'] = df_coin['equity'] * df_coin['close']\n",
    "df_coin['usd'] /= df_coin['usd'].iat[0]\n",
    "\n",
    "print(df_coin[['candle_begin_time', 'close', 'pos', 'equity', 'usd']])"
   ]
  },
  {
   "cell_type": "code",
   "execution_count": 6,
   "id": "3494d63d",
   "metadata": {},
   "outputs": [
    {
     "data": {
      "text/plain": [
       "count    2.362999e+06\n",
       "mean    -6.957448e-04\n",
       "std      9.932150e-04\n",
       "min     -2.382805e-03\n",
       "25%     -1.887427e-03\n",
       "50%     -2.681043e-04\n",
       "75%      6.768313e-05\n",
       "max      8.053049e-04\n",
       "dtype: float64"
      ]
     },
     "execution_count": 6,
     "metadata": {},
     "output_type": "execute_result"
    }
   ],
   "source": [
    "tmp = df_coin['usd'] / df_usdt['equity'] - 1\n",
    "tmp.describe()"
   ]
  }
 ],
 "metadata": {
  "kernelspec": {
   "display_name": "Python 3 (ipykernel)",
   "language": "python",
   "name": "python3"
  },
  "language_info": {
   "codemirror_mode": {
    "name": "ipython",
    "version": 3
   },
   "file_extension": ".py",
   "mimetype": "text/x-python",
   "name": "python",
   "nbconvert_exporter": "python",
   "pygments_lexer": "ipython3",
   "version": "3.9.13"
  }
 },
 "nbformat": 4,
 "nbformat_minor": 5
}
